{
 "cells": [
  {
   "cell_type": "code",
   "execution_count": 1,
   "id": "7fd62087",
   "metadata": {},
   "outputs": [
    {
     "name": "stdout",
     "output_type": "stream",
     "text": [
      "Using device: cuda\n"
     ]
    }
   ],
   "source": [
    "import torch\n",
    "from torchvision import transforms\n",
    "from PIL import Image\n",
    "\n",
    "# GPU 확인 (가능하면 GPU로)\n",
    "device = torch.device(\"cuda\" if torch.cuda.is_available() else \"cpu\")\n",
    "print(\"Using device:\", device)"
   ]
  },
  {
   "cell_type": "code",
   "execution_count": null,
   "id": "e26dde75",
   "metadata": {},
   "outputs": [
    {
     "name": "stderr",
     "output_type": "stream",
     "text": [
      "/anaconda/envs/jupyter_env/lib/python3.10/site-packages/torchvision/models/_utils.py:208: UserWarning: The parameter 'pretrained' is deprecated since 0.13 and may be removed in the future, please use 'weights' instead.\n",
      "  warnings.warn(\n",
      "/anaconda/envs/jupyter_env/lib/python3.10/site-packages/torchvision/models/_utils.py:223: UserWarning: Arguments other than a weight enum or `None` for 'weights' are deprecated since 0.13 and may be removed in the future. The current behavior is equivalent to passing `weights=None`.\n",
      "  warnings.warn(msg)\n"
     ]
    },
    {
     "name": "stdout",
     "output_type": "stream",
     "text": [
      "Downloading: \"https://download.pytorch.org/models/resnet50-0676ba61.pth\" to /home/azureuser/.cache/torch/hub/checkpoints/resnet50-0676ba61.pth\n"
     ]
    },
    {
     "name": "stderr",
     "output_type": "stream",
     "text": [
      "100%|██████████| 97.8M/97.8M [00:00<00:00, 434MB/s]\n"
     ]
    },
    {
     "name": "stdout",
     "output_type": "stream",
     "text": [
      "Both models loaded and set to eval()\n"
     ]
    }
   ],
   "source": [
    "from torchvision.models.detection import fasterrcnn_resnet50_fpn\n",
    "\n",
    "# 1) 모델 구조 생성\n",
    "#    num_classes = (배경 포함 클래스 수)\n",
    "#    예를 들어, background + 공공기물 N종을 총 M개라면 num_classes=M+1\n",
    "num_classes = 9\n",
    "detector = fasterrcnn_resnet50_fpn(pretrained=False, num_classes=num_classes)\n",
    "\n",
    "# 2) state_dict 불러오기\n",
    "state_dict_det = torch.load(\"./models/fasterrcnn_model.pt\", map_location=device)\n",
    "detector.load_state_dict(state_dict_det)\n",
    "\n",
    "# 3) to(device) & eval()\n",
    "detector.to(device).eval()\n",
    "\n",
    "import torch.nn as nn\n",
    "from torchvision.models import resnet50\n",
    "\n",
    "# 1) 기본 ResNet50 구조 불러오기\n",
    "classifier = resnet50(pretrained=False)\n",
    "\n",
    "# 2) 마지막 FC 레이어 교체 (출력 차원 = 정상/파손 2개)\n",
    "in_features = classifier.fc.in_features\n",
    "classifier.fc = nn.Linear(in_features, 2)\n",
    "\n",
    "# 3) state_dict 불러오기\n",
    "state_dict_clf = torch.load(\"./models/resnet_binary.pt\", map_location=device)\n",
    "classifier.load_state_dict(state_dict_clf)\n",
    "\n",
    "# 4) to(device) & eval()\n",
    "classifier.to(device).eval()\n",
    "\n",
    "print(\"Both models loaded and set to eval()\")"
   ]
  },
  {
   "cell_type": "code",
   "execution_count": 5,
   "id": "ddc6b3fc",
   "metadata": {},
   "outputs": [],
   "source": [
    "# Faster‑RCNN 입력: ToTensor()\n",
    "preprocess_det = transforms.Compose([\n",
    "    transforms.ToTensor()\n",
    "])\n",
    "\n",
    "# ResNet 분류 입력: Resize+CenterCrop+Normalize\n",
    "preprocess_clf = transforms.Compose([\n",
    "    transforms.Resize(256),\n",
    "    transforms.CenterCrop(224),\n",
    "    transforms.ToTensor(),\n",
    "    transforms.Normalize(mean=[0.485,0.456,0.406], std=[0.229,0.224,0.225]),\n",
    "])"
   ]
  },
  {
   "cell_type": "code",
   "execution_count": null,
   "id": "81942809",
   "metadata": {},
   "outputs": [
    {
     "name": "stdout",
     "output_type": "stream",
     "text": [
      "tensor([4, 4, 5, 4, 4, 4, 5, 5, 5, 5, 4, 5, 5, 5, 4, 5, 5, 5, 5, 5, 5, 5, 5, 5,\n",
      "        5, 5, 5], device='cuda:0')\n",
      "tensor([0.9878, 0.9859, 0.9769, 0.9672, 0.9172, 0.8934, 0.8878, 0.8874, 0.8425,\n",
      "        0.7819, 0.3938, 0.3346, 0.2776, 0.2403, 0.2366, 0.2326, 0.2090, 0.2055,\n",
      "        0.1734, 0.1085, 0.1043, 0.0856, 0.0833, 0.0722, 0.0665, 0.0595, 0.0587],\n",
      "       device='cuda:0')\n",
      "Best box: [287 143 311 185] score: 0.9877959489822388\n",
      "category ID: tensor(4, device='cuda:0')\n",
      "Predicted class idx: 0\n"
     ]
    },
    {
     "data": {
      "image/png": "[encoded data removed]",
      "text/plain": [
       "<Figure size 640x480 with 1 Axes>"
      ]
     },
     "metadata": {},
     "output_type": "display_data"
    }
   ],
   "source": [
    "from PIL import Image\n",
    "import matplotlib.pyplot as plt\n",
    "\n",
    "# workspace/ 에 test.jpg 를 올려두고 테스트\n",
    "img = Image.open(\"./test4.jpg\").convert(\"RGB\")\n",
    "img_tensor = preprocess_det(img).to(device)\n",
    "\n",
    "with torch.no_grad():\n",
    "    out = detector([img_tensor])[0]\n",
    "label = out['labels']\n",
    "print(label)\n",
    "# 가장 높은 score의 바운딩박스\n",
    "scores = out['scores']\n",
    "print(scores)\n",
    "if len(scores)>0:\n",
    "    idx = torch.argmax(scores).item()\n",
    "    box = out['boxes'][idx].cpu().numpy().astype(int)\n",
    "    print(\"Best box:\", box, \"score:\", scores[idx].item())\n",
    "    \n",
    "    # 크롭\n",
    "    crop = img.crop((box[0], box[1], box[2], box[3]))\n",
    "    # 분류 테스트\n",
    "    input_crop = preprocess_clf(crop).unsqueeze(0).to(device)\n",
    "    logits = classifier(input_crop)\n",
    "    cls = torch.argmax(logits,1).item()\n",
    "    print(\"category ID:\", label[idx])\n",
    "    print(\"Predicted class idx:\", cls)\n",
    "\n",
    "    fig, ax = plt.subplots(1)\n",
    "    ax.imshow(crop)\n",
    "    plt.axis(\"off\")\n",
    "    plt.tight_layout()\n",
    "    plt.show()\n",
    "else:\n",
    "    print(\"검출된 객체 없음\")"
   ]
  }
 ],
 "metadata": {
  "kernelspec": {
   "display_name": "Python 3 (ipykernel)",
   "language": "python",
   "name": "python3"
  },
  "language_info": {
   "codemirror_mode": {
    "name": "ipython",
    "version": 3
   },
   "file_extension": ".py",
   "mimetype": "text/x-python",
   "name": "python",
   "nbconvert_exporter": "python",
   "pygments_lexer": "ipython3",
   "version": "3.10.18"
  }
 },
 "nbformat": 4,
 "nbformat_minor": 5
}
