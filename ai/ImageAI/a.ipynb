{
 "cells": [
  {
   "cell_type": "code",
   "execution_count": 1,
   "id": "93b2a5c4",
   "metadata": {},
   "outputs": [
    {
     "name": "stdout",
     "output_type": "stream",
     "text": [
      "roi_heads.box_predictor.cls_score.weight torch.Size([17, 1024])\n",
      "roi_heads.box_predictor.cls_score.bias torch.Size([17])\n",
      "roi_heads.box_predictor.bbox_pred.weight torch.Size([68, 1024])\n",
      "roi_heads.box_predictor.bbox_pred.bias torch.Size([68])\n",
      "roi_heads.mask_predictor.conv5_mask.weight torch.Size([256, 256, 2, 2])\n",
      "roi_heads.mask_predictor.conv5_mask.bias torch.Size([256])\n",
      "roi_heads.mask_predictor.mask_fcn_logits.weight torch.Size([91, 256, 1, 1])\n",
      "roi_heads.mask_predictor.mask_fcn_logits.bias torch.Size([91])\n"
     ]
    }
   ],
   "source": [
    "import torch\n",
    "sd = torch.load(\"models/maskrcnn_combined.pt\", map_location=\"cpu\")\n",
    "# 저장을 dict로 한 경우 확인\n",
    "if isinstance(sd, dict) and (\"state_dict\" in sd or \"model_state_dict\" in sd):\n",
    "    sd = sd.get(\"state_dict\", sd.get(\"model_state_dict\"))\n",
    "\n",
    "for k, v in sd.items():\n",
    "    if \"box_predictor\" in k or \"mask_predictor\" in k:\n",
    "        print(k, v.shape)"
   ]
  }
 ],
 "metadata": {
  "kernelspec": {
   "display_name": "Python 3",
   "language": "python",
   "name": "python3"
  },
  "language_info": {
   "codemirror_mode": {
    "name": "ipython",
    "version": 3
   },
   "file_extension": ".py",
   "mimetype": "text/x-python",
   "name": "python",
   "nbconvert_exporter": "python",
   "pygments_lexer": "ipython3",
   "version": "3.9.13"
  }
 },
 "nbformat": 4,
 "nbformat_minor": 5
}
